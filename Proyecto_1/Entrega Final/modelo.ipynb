{
 "cells": [
  {
   "cell_type": "code",
   "execution_count": 62,
   "metadata": {},
   "outputs": [],
   "source": [
    "import cv2 as cv\n",
    "import matplotlib.pyplot as plt\n",
    "import pandas as pd\n",
    "from sklearn.model_selection import train_test_split\n",
    "from sklearn.metrics import r2_score\n",
    "import seaborn as sns\n",
    "\n",
    "from mpl_toolkits.mplot3d import axes3d    \n",
    "\n",
    "import numpy as np\n",
    "import os\n",
    "\n",
    "plt.style.use('dark_background') \n",
    "\n",
    "%matplotlib inline\n",
    "\n",
    "PATH = 'C:/Users/yanet/Documents/CV/letters/'\n",
    "archivos = os.listdir(PATH)"
   ]
  },
  {
   "cell_type": "code",
   "execution_count": 63,
   "metadata": {},
   "outputs": [],
   "source": [
    "# Carga de las funciones del modulo plot\n",
    "def imgview(img, title=None, filename=None, axis=False, figsize=None):\n",
    "    \"\"\"\n",
    "    imgview: funcion de visualizacion de imagen\n",
    "\n",
    "    Par:\n",
    "        img: matriz de la imagen a visualizar\n",
    "        title: asignacion de titulo, por default no se coloca titulo\n",
    "        filename: opcion para guardar la imagen, por default no se realiza la accion\n",
    "        axis: visualizacion de los ejes, por default no se muestran\n",
    "    \"\"\"\n",
    "    r,c = img.shape[0:2]\n",
    "    if figsize != None:\n",
    "        fig = plt.figure(figsize=figsize)\n",
    "    else:\n",
    "        k = 8\n",
    "        fig = plt.figure(figsize=(k,k))\n",
    "    ax = fig.add_subplot(111)\n",
    "    \n",
    "    if len(img.shape) == 3:\n",
    "        img = ax.imshow(img,extent=None)\n",
    "    else:\n",
    "        img = ax.imshow(img,extent=None,cmap='gray',vmin=0,vmax=255)\n",
    "    if title != None:\n",
    "        ax.set_title(title,fontsize=14)\n",
    "    if not axis:\n",
    "        plt.axis('off')\n",
    "    else:\n",
    "        ax.grid(c='w')\n",
    "        ax.xaxis.tick_top()\n",
    "        ax.xaxis.set_label_position('top') \n",
    "        ax.set_xlabel('Columns',fontsize=14)\n",
    "        ax.set_ylabel('Rows',fontsize=14)\n",
    "        ax.xaxis.label.set_color('w')\n",
    "        ax.yaxis.label.set_color('w')\n",
    "        ax.tick_params(axis='x', colors='w',labelsize=14)\n",
    "        ax.tick_params(axis='y', colors='w',labelsize=14)\n",
    "        \n",
    "    if filename != None:\n",
    "        plt.savefig(filename)\n",
    "    plt.show()"
   ]
  },
  {
   "cell_type": "code",
   "execution_count": 64,
   "metadata": {},
   "outputs": [],
   "source": [
    "def imgnorm(img):\n",
    "    \"\"\"Nomalize an image\n",
    "    Args:\n",
    "        img (numpy array): Source image\n",
    "    Returns:\n",
    "        normalized (numpy array): Nomalized image\n",
    "    \"\"\"\n",
    "    vmin, vmax = img.min(), img.max()\n",
    "    normalized_values = []\n",
    "    delta = vmax-vmin\n",
    "\n",
    "    for p in img.ravel():\n",
    "        normalized_values.append(255*(p-vmin)/delta)\n",
    "\n",
    "    normalized  = np.array(normalized_values).astype(np.uint8).reshape(img.shape[0],-1)\n",
    "    return normalized"
   ]
  },
  {
   "cell_type": "code",
   "execution_count": 65,
   "metadata": {},
   "outputs": [],
   "source": [
    "def img_data(im):\n",
    "    # print(im.shape)\n",
    "    # _, img_bin = cv.threshold(im, 128, 255, cv.THRESH_BINARY_INV)\n",
    "    im = imgnorm(im)\n",
    "    img_bin = cv.adaptiveThreshold(im, 255, cv.ADAPTIVE_THRESH_GAUSSIAN_C, cv.THRESH_BINARY_INV, 33, 5)\n",
    "    im_t = np.concatenate(img_bin, axis=0)\n",
    "    # print(im_t.shape)\n",
    "    return im_t"
   ]
  },
  {
   "cell_type": "code",
   "execution_count": 66,
   "metadata": {},
   "outputs": [
    {
     "name": "stdout",
     "output_type": "stream",
     "text": [
      "C:/Users/yanet/Documents/CV/letters/0/\n"
     ]
    },
    {
     "name": "stdout",
     "output_type": "stream",
     "text": [
      "C:/Users/yanet/Documents/CV/letters/1/\n",
      "C:/Users/yanet/Documents/CV/letters/2/\n",
      "C:/Users/yanet/Documents/CV/letters/3/\n",
      "C:/Users/yanet/Documents/CV/letters/4/\n",
      "C:/Users/yanet/Documents/CV/letters/5/\n",
      "C:/Users/yanet/Documents/CV/letters/6/\n",
      "C:/Users/yanet/Documents/CV/letters/7/\n",
      "C:/Users/yanet/Documents/CV/letters/8/\n",
      "C:/Users/yanet/Documents/CV/letters/9/\n",
      "C:/Users/yanet/Documents/CV/letters/A/\n",
      "C:/Users/yanet/Documents/CV/letters/B/\n",
      "C:/Users/yanet/Documents/CV/letters/C/\n",
      "C:/Users/yanet/Documents/CV/letters/D/\n",
      "C:/Users/yanet/Documents/CV/letters/E/\n",
      "C:/Users/yanet/Documents/CV/letters/F/\n",
      "C:/Users/yanet/Documents/CV/letters/G/\n",
      "C:/Users/yanet/Documents/CV/letters/H/\n",
      "C:/Users/yanet/Documents/CV/letters/I/\n",
      "C:/Users/yanet/Documents/CV/letters/J/\n",
      "C:/Users/yanet/Documents/CV/letters/K/\n",
      "C:/Users/yanet/Documents/CV/letters/L/\n",
      "C:/Users/yanet/Documents/CV/letters/M/\n",
      "C:/Users/yanet/Documents/CV/letters/N/\n",
      "C:/Users/yanet/Documents/CV/letters/P/\n",
      "C:/Users/yanet/Documents/CV/letters/Q/\n",
      "C:/Users/yanet/Documents/CV/letters/R/\n",
      "C:/Users/yanet/Documents/CV/letters/S/\n",
      "C:/Users/yanet/Documents/CV/letters/T/\n",
      "C:/Users/yanet/Documents/CV/letters/U/\n",
      "C:/Users/yanet/Documents/CV/letters/V/\n",
      "C:/Users/yanet/Documents/CV/letters/W/\n",
      "C:/Users/yanet/Documents/CV/letters/X/\n",
      "C:/Users/yanet/Documents/CV/letters/Y/\n",
      "C:/Users/yanet/Documents/CV/letters/Z/\n"
     ]
    }
   ],
   "source": [
    "c = 0\n",
    "X = []\n",
    "y = []\n",
    "for archivo in archivos:\n",
    "    label = archivo\n",
    "    # print(label)s\n",
    "    newPATH = f\"{PATH}{archivo}/\"\n",
    "    archivo = os.listdir(newPATH)\n",
    "    print(newPATH)\n",
    "    # c = 0\n",
    "    # c = c + 1\n",
    "    for imagen in archivo: \n",
    "        if imagen.endswith('.jpg'):\n",
    "            img = os.path.join(newPATH, imagen)\n",
    "            im = cv.imread(img, cv.IMREAD_GRAYSCALE)\n",
    "            im_t = img_data(im)\n",
    "            X.append(im_t)\n",
    "            y.append(label)\n",
    "            # plot.imgview(im)\n",
    "    #         c = c+1\n",
    "    #         if c == 1:\n",
    "    #             break\n",
    "    if c == 10:\n",
    "        break"
   ]
  },
  {
   "cell_type": "code",
   "execution_count": 67,
   "metadata": {},
   "outputs": [],
   "source": [
    "y = pd.DataFrame(y)\n",
    "X = pd.DataFrame(np.array(X, dtype=np.float64))"
   ]
  },
  {
   "cell_type": "code",
   "execution_count": 68,
   "metadata": {},
   "outputs": [
    {
     "name": "stdout",
     "output_type": "stream",
     "text": [
      "(35500, 7500)\n",
      "(35500, 1)\n",
      "(100, 75)\n"
     ]
    }
   ],
   "source": [
    "print(X.shape)\n",
    "print(y.shape)\n",
    "print(im.shape)"
   ]
  },
  {
   "cell_type": "code",
   "execution_count": 69,
   "metadata": {},
   "outputs": [
    {
     "data": {
      "text/plain": [
       "0    2\n",
       "Name: 3000, dtype: object"
      ]
     },
     "execution_count": 69,
     "metadata": {},
     "output_type": "execute_result"
    }
   ],
   "source": [
    "y.loc[3000,:]"
   ]
  },
  {
   "cell_type": "code",
   "execution_count": 70,
   "metadata": {},
   "outputs": [
    {
     "data": {
      "image/png": "[encoded data removed]",
      "text/plain": [
       "<Figure size 800x800 with 1 Axes>"
      ]
     },
     "metadata": {},
     "output_type": "display_data"
    }
   ],
   "source": [
    "some_digit = X.loc[3000,:].values\n",
    "some_digit_image = some_digit.reshape(100, 75)\n",
    "some_digit_image = np.array(some_digit_image, dtype=np.float64)\n",
    "imgview(some_digit_image)"
   ]
  },
  {
   "cell_type": "code",
   "execution_count": 71,
   "metadata": {},
   "outputs": [],
   "source": [
    "# X_ = X.astype('float32') / 255.0"
   ]
  },
  {
   "cell_type": "markdown",
   "metadata": {},
   "source": [
    "# Split de la data"
   ]
  },
  {
   "cell_type": "code",
   "execution_count": 72,
   "metadata": {},
   "outputs": [],
   "source": [
    "X_train, X_test, y_train, y_test = train_test_split(X, y, test_size=0.30, random_state=100)"
   ]
  },
  {
   "cell_type": "code",
   "execution_count": 73,
   "metadata": {},
   "outputs": [
    {
     "data": {
      "text/plain": [
       "(35500, 1)"
      ]
     },
     "execution_count": 73,
     "metadata": {},
     "output_type": "execute_result"
    }
   ],
   "source": [
    "y.shape"
   ]
  },
  {
   "cell_type": "code",
   "execution_count": 74,
   "metadata": {},
   "outputs": [
    {
     "data": {
      "text/plain": [
       "(24850, 7500)"
      ]
     },
     "execution_count": 74,
     "metadata": {},
     "output_type": "execute_result"
    }
   ],
   "source": [
    "X_train.shape"
   ]
  },
  {
   "cell_type": "markdown",
   "metadata": {},
   "source": [
    "# Selección del Modelo"
   ]
  },
  {
   "cell_type": "code",
   "execution_count": 75,
   "metadata": {},
   "outputs": [
    {
     "name": "stderr",
     "output_type": "stream",
     "text": [
      "c:\\Users\\yanet\\miniforge3\\envs\\cv\\lib\\site-packages\\sklearn\\utils\\validation.py:1183: DataConversionWarning: A column-vector y was passed when a 1d array was expected. Please change the shape of y to (n_samples, ), for example using ravel().\n",
      "  y = column_or_1d(y, warn=True)\n"
     ]
    },
    {
     "data": {
      "text/html": [
       "<style>#sk-container-id-7 {color: black;}#sk-container-id-7 pre{padding: 0;}#sk-container-id-7 div.sk-toggleable {background-color: white;}#sk-container-id-7 label.sk-toggleable__label {cursor: pointer;display: block;width: 100%;margin-bottom: 0;padding: 0.3em;box-sizing: border-box;text-align: center;}#sk-container-id-7 label.sk-toggleable__label-arrow:before {content: \"▸\";float: left;margin-right: 0.25em;color: #696969;}#sk-container-id-7 label.sk-toggleable__label-arrow:hover:before {color: black;}#sk-container-id-7 div.sk-estimator:hover label.sk-toggleable__label-arrow:before {color: black;}#sk-container-id-7 div.sk-toggleable__content {max-height: 0;max-width: 0;overflow: hidden;text-align: left;background-color: #f0f8ff;}#sk-container-id-7 div.sk-toggleable__content pre {margin: 0.2em;color: black;border-radius: 0.25em;background-color: #f0f8ff;}#sk-container-id-7 input.sk-toggleable__control:checked~div.sk-toggleable__content {max-height: 200px;max-width: 100%;overflow: auto;}#sk-container-id-7 input.sk-toggleable__control:checked~label.sk-toggleable__label-arrow:before {content: \"▾\";}#sk-container-id-7 div.sk-estimator input.sk-toggleable__control:checked~label.sk-toggleable__label {background-color: #d4ebff;}#sk-container-id-7 div.sk-label input.sk-toggleable__control:checked~label.sk-toggleable__label {background-color: #d4ebff;}#sk-container-id-7 input.sk-hidden--visually {border: 0;clip: rect(1px 1px 1px 1px);clip: rect(1px, 1px, 1px, 1px);height: 1px;margin: -1px;overflow: hidden;padding: 0;position: absolute;width: 1px;}#sk-container-id-7 div.sk-estimator {font-family: monospace;background-color: #f0f8ff;border: 1px dotted black;border-radius: 0.25em;box-sizing: border-box;margin-bottom: 0.5em;}#sk-container-id-7 div.sk-estimator:hover {background-color: #d4ebff;}#sk-container-id-7 div.sk-parallel-item::after {content: \"\";width: 100%;border-bottom: 1px solid gray;flex-grow: 1;}#sk-container-id-7 div.sk-label:hover label.sk-toggleable__label {background-color: #d4ebff;}#sk-container-id-7 div.sk-serial::before {content: \"\";position: absolute;border-left: 1px solid gray;box-sizing: border-box;top: 0;bottom: 0;left: 50%;z-index: 0;}#sk-container-id-7 div.sk-serial {display: flex;flex-direction: column;align-items: center;background-color: white;padding-right: 0.2em;padding-left: 0.2em;position: relative;}#sk-container-id-7 div.sk-item {position: relative;z-index: 1;}#sk-container-id-7 div.sk-parallel {display: flex;align-items: stretch;justify-content: center;background-color: white;position: relative;}#sk-container-id-7 div.sk-item::before, #sk-container-id-7 div.sk-parallel-item::before {content: \"\";position: absolute;border-left: 1px solid gray;box-sizing: border-box;top: 0;bottom: 0;left: 50%;z-index: -1;}#sk-container-id-7 div.sk-parallel-item {display: flex;flex-direction: column;z-index: 1;position: relative;background-color: white;}#sk-container-id-7 div.sk-parallel-item:first-child::after {align-self: flex-end;width: 50%;}#sk-container-id-7 div.sk-parallel-item:last-child::after {align-self: flex-start;width: 50%;}#sk-container-id-7 div.sk-parallel-item:only-child::after {width: 0;}#sk-container-id-7 div.sk-dashed-wrapped {border: 1px dashed gray;margin: 0 0.4em 0.5em 0.4em;box-sizing: border-box;padding-bottom: 0.4em;background-color: white;}#sk-container-id-7 div.sk-label label {font-family: monospace;font-weight: bold;display: inline-block;line-height: 1.2em;}#sk-container-id-7 div.sk-label-container {text-align: center;}#sk-container-id-7 div.sk-container {/* jupyter's `normalize.less` sets `[hidden] { display: none; }` but bootstrap.min.css set `[hidden] { display: none !important; }` so we also need the `!important` here to be able to override the default hidden behavior on the sphinx rendered scikit-learn.org. See: https://github.com/scikit-learn/scikit-learn/issues/21755 */display: inline-block !important;position: relative;}#sk-container-id-7 div.sk-text-repr-fallback {display: none;}</style><div id=\"sk-container-id-7\" class=\"sk-top-container\"><div class=\"sk-text-repr-fallback\"><pre>SVC()</pre><b>In a Jupyter environment, please rerun this cell to show the HTML representation or trust the notebook. <br />On GitHub, the HTML representation is unable to render, please try loading this page with nbviewer.org.</b></div><div class=\"sk-container\" hidden><div class=\"sk-item\"><div class=\"sk-estimator sk-toggleable\"><input class=\"sk-toggleable__control sk-hidden--visually\" id=\"sk-estimator-id-7\" type=\"checkbox\" checked><label for=\"sk-estimator-id-7\" class=\"sk-toggleable__label sk-toggleable__label-arrow\">SVC</label><div class=\"sk-toggleable__content\"><pre>SVC()</pre></div></div></div></div></div>"
      ],
      "text/plain": [
       "SVC()"
      ]
     },
     "execution_count": 75,
     "metadata": {},
     "output_type": "execute_result"
    }
   ],
   "source": [
    "from sklearn.svm import SVC\n",
    "\n",
    "params = {\n",
    "    'C': 1.0,\n",
    "    'kernel': 'rbf',\n",
    "    'gamma': 'scale',\n",
    "}\n",
    "\n",
    "svm_model = SVC(**params)\n",
    "\n",
    "svm_model.fit(X_train, y_train)\n"
   ]
  },
  {
   "cell_type": "code",
   "execution_count": 76,
   "metadata": {},
   "outputs": [
    {
     "name": "stderr",
     "output_type": "stream",
     "text": [
      "c:\\Users\\yanet\\miniforge3\\envs\\cv\\lib\\site-packages\\sklearn\\base.py:1152: DataConversionWarning: A column-vector y was passed when a 1d array was expected. Please change the shape of y to (n_samples,), for example using ravel().\n",
      "  return fit_method(estimator, *args, **kwargs)\n"
     ]
    },
    {
     "data": {
      "text/html": [
       "<style>#sk-container-id-8 {color: black;}#sk-container-id-8 pre{padding: 0;}#sk-container-id-8 div.sk-toggleable {background-color: white;}#sk-container-id-8 label.sk-toggleable__label {cursor: pointer;display: block;width: 100%;margin-bottom: 0;padding: 0.3em;box-sizing: border-box;text-align: center;}#sk-container-id-8 label.sk-toggleable__label-arrow:before {content: \"▸\";float: left;margin-right: 0.25em;color: #696969;}#sk-container-id-8 label.sk-toggleable__label-arrow:hover:before {color: black;}#sk-container-id-8 div.sk-estimator:hover label.sk-toggleable__label-arrow:before {color: black;}#sk-container-id-8 div.sk-toggleable__content {max-height: 0;max-width: 0;overflow: hidden;text-align: left;background-color: #f0f8ff;}#sk-container-id-8 div.sk-toggleable__content pre {margin: 0.2em;color: black;border-radius: 0.25em;background-color: #f0f8ff;}#sk-container-id-8 input.sk-toggleable__control:checked~div.sk-toggleable__content {max-height: 200px;max-width: 100%;overflow: auto;}#sk-container-id-8 input.sk-toggleable__control:checked~label.sk-toggleable__label-arrow:before {content: \"▾\";}#sk-container-id-8 div.sk-estimator input.sk-toggleable__control:checked~label.sk-toggleable__label {background-color: #d4ebff;}#sk-container-id-8 div.sk-label input.sk-toggleable__control:checked~label.sk-toggleable__label {background-color: #d4ebff;}#sk-container-id-8 input.sk-hidden--visually {border: 0;clip: rect(1px 1px 1px 1px);clip: rect(1px, 1px, 1px, 1px);height: 1px;margin: -1px;overflow: hidden;padding: 0;position: absolute;width: 1px;}#sk-container-id-8 div.sk-estimator {font-family: monospace;background-color: #f0f8ff;border: 1px dotted black;border-radius: 0.25em;box-sizing: border-box;margin-bottom: 0.5em;}#sk-container-id-8 div.sk-estimator:hover {background-color: #d4ebff;}#sk-container-id-8 div.sk-parallel-item::after {content: \"\";width: 100%;border-bottom: 1px solid gray;flex-grow: 1;}#sk-container-id-8 div.sk-label:hover label.sk-toggleable__label {background-color: #d4ebff;}#sk-container-id-8 div.sk-serial::before {content: \"\";position: absolute;border-left: 1px solid gray;box-sizing: border-box;top: 0;bottom: 0;left: 50%;z-index: 0;}#sk-container-id-8 div.sk-serial {display: flex;flex-direction: column;align-items: center;background-color: white;padding-right: 0.2em;padding-left: 0.2em;position: relative;}#sk-container-id-8 div.sk-item {position: relative;z-index: 1;}#sk-container-id-8 div.sk-parallel {display: flex;align-items: stretch;justify-content: center;background-color: white;position: relative;}#sk-container-id-8 div.sk-item::before, #sk-container-id-8 div.sk-parallel-item::before {content: \"\";position: absolute;border-left: 1px solid gray;box-sizing: border-box;top: 0;bottom: 0;left: 50%;z-index: -1;}#sk-container-id-8 div.sk-parallel-item {display: flex;flex-direction: column;z-index: 1;position: relative;background-color: white;}#sk-container-id-8 div.sk-parallel-item:first-child::after {align-self: flex-end;width: 50%;}#sk-container-id-8 div.sk-parallel-item:last-child::after {align-self: flex-start;width: 50%;}#sk-container-id-8 div.sk-parallel-item:only-child::after {width: 0;}#sk-container-id-8 div.sk-dashed-wrapped {border: 1px dashed gray;margin: 0 0.4em 0.5em 0.4em;box-sizing: border-box;padding-bottom: 0.4em;background-color: white;}#sk-container-id-8 div.sk-label label {font-family: monospace;font-weight: bold;display: inline-block;line-height: 1.2em;}#sk-container-id-8 div.sk-label-container {text-align: center;}#sk-container-id-8 div.sk-container {/* jupyter's `normalize.less` sets `[hidden] { display: none; }` but bootstrap.min.css set `[hidden] { display: none !important; }` so we also need the `!important` here to be able to override the default hidden behavior on the sphinx rendered scikit-learn.org. See: https://github.com/scikit-learn/scikit-learn/issues/21755 */display: inline-block !important;position: relative;}#sk-container-id-8 div.sk-text-repr-fallback {display: none;}</style><div id=\"sk-container-id-8\" class=\"sk-top-container\"><div class=\"sk-text-repr-fallback\"><pre>RandomForestClassifier()</pre><b>In a Jupyter environment, please rerun this cell to show the HTML representation or trust the notebook. <br />On GitHub, the HTML representation is unable to render, please try loading this page with nbviewer.org.</b></div><div class=\"sk-container\" hidden><div class=\"sk-item\"><div class=\"sk-estimator sk-toggleable\"><input class=\"sk-toggleable__control sk-hidden--visually\" id=\"sk-estimator-id-8\" type=\"checkbox\" checked><label for=\"sk-estimator-id-8\" class=\"sk-toggleable__label sk-toggleable__label-arrow\">RandomForestClassifier</label><div class=\"sk-toggleable__content\"><pre>RandomForestClassifier()</pre></div></div></div></div></div>"
      ],
      "text/plain": [
       "RandomForestClassifier()"
      ]
     },
     "execution_count": 76,
     "metadata": {},
     "output_type": "execute_result"
    }
   ],
   "source": [
    "from sklearn.ensemble import RandomForestClassifier\n",
    "\n",
    "params = {\n",
    "    'n_estimators': 100,\n",
    "    'max_depth': None,\n",
    "    'min_samples_split': 2,\n",
    "    'min_samples_leaf': 1,\n",
    "}\n",
    "\n",
    "rf_model = RandomForestClassifier(**params)\n",
    "\n",
    "rf_model.fit(X_train, y_train)\n"
   ]
  },
  {
   "cell_type": "code",
   "execution_count": 77,
   "metadata": {},
   "outputs": [
    {
     "name": "stderr",
     "output_type": "stream",
     "text": [
      "c:\\Users\\yanet\\miniforge3\\envs\\cv\\lib\\site-packages\\sklearn\\utils\\validation.py:1183: DataConversionWarning: A column-vector y was passed when a 1d array was expected. Please change the shape of y to (n_samples, ), for example using ravel().\n",
      "  y = column_or_1d(y, warn=True)\n"
     ]
    }
   ],
   "source": [
    "from sklearn.svm import SVC\n",
    "\n",
    "svm_model_ = SVC(kernel='linear', C=1.0, random_state=42)\n",
    "svm_model_.fit(X_train, y_train)\n"
   ]
  },
  {
   "cell_type": "code",
   "execution_count": null,
   "metadata": {},
   "outputs": [
    {
     "name": "stdout",
     "output_type": "stream",
     "text": [
      "Precisión del modelo SVM_: 0.9974647887323944\n"
     ]
    }
   ],
   "source": [
    "from sklearn.metrics import accuracy_score\n",
    "\n",
    "y_pred = svm_model_.predict(X_test)\n",
    "accuracy = accuracy_score(y_test, y_pred)\n",
    "print(\"Precisión del modelo SVM_:\", accuracy)"
   ]
  },
  {
   "cell_type": "code",
   "execution_count": null,
   "metadata": {},
   "outputs": [
    {
     "name": "stdout",
     "output_type": "stream",
     "text": [
      "Precisión del modelo SVM: 0.9990610328638497\n"
     ]
    }
   ],
   "source": [
    "# y_pred_svm = svm_model.predict(X_test)\n",
    "# accuracy_svm = accuracy_score(y_test, y_pred_svm)\n",
    "# print(\"Precisión del modelo SVM:\", accuracy_svm)"
   ]
  },
  {
   "cell_type": "code",
   "execution_count": null,
   "metadata": {},
   "outputs": [
    {
     "name": "stdout",
     "output_type": "stream",
     "text": [
      "Precisión del modelo SVM: 0.9971830985915493\n"
     ]
    }
   ],
   "source": [
    "# y_pred_rf = rf_model.predict(X_test)\n",
    "# accuracy_rf = accuracy_score(y_test, y_pred_rf)\n",
    "# print(\"Precisión del modelo SVM:\", accuracy_rf)"
   ]
  },
  {
   "cell_type": "code",
   "execution_count": null,
   "metadata": {},
   "outputs": [],
   "source": [
    "y_pred = pd.DataFrame(y_pred)"
   ]
  },
  {
   "cell_type": "code",
   "execution_count": null,
   "metadata": {},
   "outputs": [],
   "source": [
    "y_test_ = y_test.reset_index(drop=True) \n",
    "y_pred_ = y_pred.reset_index(drop=True)\n",
    "X_test_ = X_test.reset_index(drop=True)"
   ]
  },
  {
   "cell_type": "code",
   "execution_count": null,
   "metadata": {},
   "outputs": [],
   "source": [
    "resultados = pd.concat([y_test_, y_pred_], axis=1)"
   ]
  },
  {
   "cell_type": "code",
   "execution_count": null,
   "metadata": {},
   "outputs": [
    {
     "data": {
      "text/plain": [
       "True     10623\n",
       "False       27\n",
       "Name: count, dtype: int64"
      ]
     },
     "execution_count": 57,
     "metadata": {},
     "output_type": "execute_result"
    }
   ],
   "source": [
    "r = y_test_ == y_pred_\n",
    "r.value_counts()"
   ]
  },
  {
   "cell_type": "code",
   "execution_count": null,
   "metadata": {},
   "outputs": [
    {
     "data": {
      "image/png": "[encoded data removed]",
      "text/plain": [
       "<Figure size 800x600 with 2 Axes>"
      ]
     },
     "metadata": {},
     "output_type": "display_data"
    }
   ],
   "source": [
    "from sklearn.metrics import confusion_matrix\n",
    "import seaborn as sns\n",
    "import matplotlib.pyplot as plt\n",
    "\n",
    "clases = sorted(set(y_test))\n",
    "cm = confusion_matrix(y_test, y_pred)\n",
    "np.fill_diagonal(cm, 0)\n",
    "\n",
    "plt.figure(figsize=(8, 6))\n",
    "sns.heatmap(cm, annot=True, fmt='d', cmap='Blues', \n",
    "            xticklabels=clases, yticklabels=clases)\n",
    "plt.xlabel('Predicción')\n",
    "plt.ylabel('Real')\n",
    "plt.title('Matriz de Confusión')\n",
    "plt.show()"
   ]
  },
  {
   "cell_type": "code",
   "execution_count": null,
   "metadata": {},
   "outputs": [
    {
     "name": "stdout",
     "output_type": "stream",
     "text": [
      "              precision    recall  f1-score   support\n",
      "\n",
      "           0       1.00      0.99      0.99       306\n",
      "           1       1.00      1.00      1.00       285\n",
      "           2       1.00      1.00      1.00       328\n",
      "           3       1.00      1.00      1.00       290\n",
      "           4       0.99      1.00      1.00       280\n",
      "           5       1.00      1.00      1.00       320\n",
      "           6       1.00      1.00      1.00       314\n",
      "           7       1.00      1.00      1.00       317\n",
      "           8       0.98      0.98      0.98       327\n",
      "           9       1.00      0.99      1.00       307\n",
      "           A       1.00      1.00      1.00       336\n",
      "           B       0.98      0.98      0.98       290\n",
      "           C       1.00      1.00      1.00       305\n",
      "           D       1.00      0.99      1.00       309\n",
      "           E       1.00      1.00      1.00       302\n",
      "           F       1.00      1.00      1.00       297\n",
      "           G       1.00      1.00      1.00       325\n",
      "           H       1.00      1.00      1.00       289\n",
      "           I       0.99      1.00      0.99       302\n",
      "           J       1.00      1.00      1.00       333\n",
      "           K       1.00      1.00      1.00       307\n",
      "           L       1.00      1.00      1.00       305\n",
      "           M       1.00      1.00      1.00       277\n",
      "           N       1.00      1.00      1.00       335\n",
      "           P       1.00      1.00      1.00       300\n",
      "           Q       0.99      1.00      0.99       286\n",
      "           R       1.00      1.00      1.00       321\n",
      "           S       0.99      1.00      1.00       309\n",
      "           T       1.00      0.99      1.00       328\n",
      "           U       1.00      1.00      1.00       311\n",
      "           V       1.00      0.99      1.00       303\n",
      "           W       1.00      1.00      1.00       309\n",
      "           X       1.00      1.00      1.00       287\n",
      "           Y       1.00      1.00      1.00       290\n",
      "           Z       1.00      1.00      1.00       220\n",
      "\n",
      "    accuracy                           1.00     10650\n",
      "   macro avg       1.00      1.00      1.00     10650\n",
      "weighted avg       1.00      1.00      1.00     10650\n",
      "\n"
     ]
    }
   ],
   "source": [
    "from sklearn.metrics import classification_report\n",
    "print(classification_report(y_test_,y_pred_))"
   ]
  },
  {
   "cell_type": "code",
   "execution_count": null,
   "metadata": {},
   "outputs": [
    {
     "data": {
      "text/plain": [
       "['modelo_entrenado_rf.pkl']"
      ]
     },
     "execution_count": 60,
     "metadata": {},
     "output_type": "execute_result"
    }
   ],
   "source": [
    "import joblib\n",
    "mi_modelo_ = svm_model_\n",
    "mi_modelo = svm_model\n",
    "mi_modelo_rf = rf_model\n",
    "\n",
    "# Guardando el modelo entrenado\n",
    "joblib.dump(mi_modelo, 'modelo_entrenado_s.pkl')\n",
    "joblib.dump(mi_modelo_, 'modelo_entrenado.pkl')\n",
    "joblib.dump(mi_modelo_rf, 'modelo_entrenado_rf.pkl')"
   ]
  },
  {
   "cell_type": "code",
   "execution_count": null,
   "metadata": {},
   "outputs": [],
   "source": [
    "# Para cargar el modelo entrenado\n",
    "modelo_cargado = joblib.load('modelo_entrenado.pkl')"
   ]
  }
 ],
 "metadata": {
  "kernelspec": {
   "display_name": "cv",
   "language": "python",
   "name": "python3"
  },
  "language_info": {
   "codemirror_mode": {
    "name": "ipython",
    "version": 3
   },
   "file_extension": ".py",
   "mimetype": "text/x-python",
   "name": "python",
   "nbconvert_exporter": "python",
   "pygments_lexer": "ipython3",
   "version": "3.9.18"
  },
  "orig_nbformat": 4
 },
 "nbformat": 4,
 "nbformat_minor": 2
}
